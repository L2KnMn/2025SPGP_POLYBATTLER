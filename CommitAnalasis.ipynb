{
 "cells": [
  {
   "cell_type": "code",
   "execution_count": null,
   "id": "initial_id",
   "metadata": {
    "collapsed": true
   },
   "outputs": [],
   "source": [
    "import pandas as pd\n",
    "\n",
    "# commit_dates.txt 파일을 읽어옵니다 (헤더가 없으므로 header=None 설정).\n",
    "commit_dates_df = pd.read_csv('commit_dates.txt', header=None, names=['date'])\n",
    "\n",
    "# 날짜 문자열을 datetime 객체로 변환합니다.\n",
    "commit_dates_df['date'] = pd.to_datetime(commit_dates_df['date'])\n",
    "\n",
    "# 이제 commit_dates_df['date']를 사용하여 날짜별 커밋 횟수 계산, 시각화 등을 수행할 수 있습니다.\n",
    "# 예: 날짜별 커밋 횟수\n",
    "commit_counts_by_date = commit_dates_df.groupby(commit_dates_df['date'].dt.date).size()\n",
    "print(commit_counts_by_date)\n",
    "\n",
    "# 시각화 예시 (matplotlib 필요)\n",
    "# import matplotlib.pyplot as plt\n",
    "# commit_counts_by_date.plot(kind='line', figsize=(12, 6))\n",
    "# plt.title('Commit Frequency Over Time')\n",
    "# plt.xlabel('Date')\n",
    "# plt.ylabel('Number of Commits')\n",
    "# plt.grid(True)\n",
    "# plt.show()"
   ]
  }
 ],
 "metadata": {
  "kernelspec": {
   "display_name": "Python 3",
   "language": "python",
   "name": "python3"
  },
  "language_info": {
   "codemirror_mode": {
    "name": "ipython",
    "version": 2
   },
   "file_extension": ".py",
   "mimetype": "text/x-python",
   "name": "python",
   "nbconvert_exporter": "python",
   "pygments_lexer": "ipython2",
   "version": "2.7.6"
  }
 },
 "nbformat": 4,
 "nbformat_minor": 5
}
